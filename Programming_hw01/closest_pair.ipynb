{
 "cells": [
  {
   "cell_type": "code",
   "execution_count": 214,
   "metadata": {},
   "outputs": [],
   "source": [
    "import sys\n",
    "def mergesort(x , type):\n",
    "    n = len(x)\n",
    "    \n",
    "    return \n",
    "\n",
    "import math\n",
    "def dist(x1 , x2):\n",
    "    return math.sqrt((x1[0] - x2[0])**2 + (x1[1] - x2[1])**2)"
   ]
  },
  {
   "cell_type": "code",
   "execution_count": 91,
   "metadata": {},
   "outputs": [],
   "source": [
    "def find_closest_dist(X):\n",
    "    n = len(X)\n",
    "    if n == 2:\n",
    "        return dist(X[0] , X[1])\n",
    "    elif n == 3:\n",
    "        return min(dist(X[0] , X[1]) , dist(X[1] , X[2]) , dist(X[2] , X[0]))\n",
    "    \n",
    "    x_sort = qsort(X , 0)\n",
    "    x_mid = x_sort[n//2]\n",
    "    left = find_closest_dist(x_sort[:n//2])\n",
    "    right = find_closest_dist(x_sort[n//2:])\n",
    "\n",
    "    min_dist = min(left , right)\n",
    "    \n",
    "    in_between = []\n",
    "    for i in range(n):\n",
    "        if abs(X[i][0] - x_mid[0]) < min_dist:    \n",
    "            in_between.append(X[i])\n",
    "\n",
    "    return min(min_dist , find_closest_y(in_between , min_dist))\n",
    "\n",
    "def find_closest_y(y , d):\n",
    "    y = qsort(y , 1)\n",
    "    n = len(y)\n",
    "\n",
    "    min_dist = d\n",
    "    for i in range(n):\n",
    "        for j in range(i+1 , min(i+7 , n)):\n",
    "            if abs(y[i][1] - y[j][1]) >= d:\n",
    "                break\n",
    "\n",
    "            distance = dist(y[i], y[j])\n",
    "            if distance < min_dist:\n",
    "                min_dist = distance\n",
    "    \n",
    "    return min_dist"
   ]
  },
  {
   "cell_type": "code",
   "execution_count": 200,
   "metadata": {},
   "outputs": [
    {
     "name": "stdout",
     "output_type": "stream",
     "text": [
      "[1.0, 3.605551275463989, 1.785860973592569]\n"
     ]
    }
   ],
   "source": [
    "f = open('input.txt' , \"r\")\n",
    "lines = []\n",
    "for line in f:\n",
    "    lines.append(line.split('\\n')[0])\n",
    "case = int(lines.pop(0))\n",
    "output = []\n",
    "for i in range(case):\n",
    "    case_num = int(lines.pop(0))\n",
    "    points = [(float(lines[j].split(\" \")[0]) , float(lines[j].split(\" \")[1])) for j in range(0 , case_num)]\n",
    "    output.append(find_closest_dist(points))\n",
    "    del lines[:case_num]\n",
    "print(output)"
   ]
  },
  {
   "cell_type": "code",
   "execution_count": 216,
   "metadata": {},
   "outputs": [],
   "source": [
    "points = [['7.377359', '3.113089'] ,['8.899004', '4.047913'], ['3.929112', '9.695250'], ['8.377879', '7.799725'],[ '5.508218' ,'2.498832']]\n"
   ]
  },
  {
   "cell_type": "code",
   "execution_count": 219,
   "metadata": {},
   "outputs": [],
   "source": [
    "points.sort(key=lambda points: points[1])"
   ]
  },
  {
   "cell_type": "code",
   "execution_count": 220,
   "metadata": {},
   "outputs": [
    {
     "data": {
      "text/plain": [
       "[['5.508218', '2.498832'],\n",
       " ['7.377359', '3.113089'],\n",
       " ['8.899004', '4.047913'],\n",
       " ['8.377879', '7.799725'],\n",
       " ['3.929112', '9.695250']]"
      ]
     },
     "execution_count": 220,
     "metadata": {},
     "output_type": "execute_result"
    }
   ],
   "source": [
    "points"
   ]
  },
  {
   "cell_type": "code",
   "execution_count": 238,
   "metadata": {},
   "outputs": [
    {
     "name": "stdout",
     "output_type": "stream",
     "text": [
      "[1.0, 3.605551275463989, 1.785860973592569]\n"
     ]
    }
   ],
   "source": [
    "import math\n",
    "def dist(x1 , x2):\n",
    "    return math.sqrt((x1[0] - x2[0])**2 + (x1[1] - x2[1])**2)\n",
    "\n",
    "\n",
    "def find_closest_dist(X):\n",
    "    n = len(X)\n",
    "    if n == 2:\n",
    "        return dist(X[0] , X[1])\n",
    "    elif n == 3:\n",
    "        return min(dist(X[0] , X[1]) , dist(X[1] , X[2]) , dist(X[2] , X[0]))\n",
    "    \n",
    "    X.sort()\n",
    "    x_mid = X[n//2]\n",
    "    left = find_closest_dist(X[:n//2])\n",
    "    right = find_closest_dist(X[n//2:])\n",
    "\n",
    "    min_dist = min(left , right)\n",
    "    \n",
    "    in_between = []\n",
    "    for i in range(n):\n",
    "        if abs(X[i][0] - x_mid[0]) < min_dist:    \n",
    "            in_between.append(X[i])\n",
    "\n",
    "    return min(min_dist , find_closest_y(in_between , min_dist))\n",
    "\n",
    "def find_closest_y(y , d):\n",
    "    y.sort(key = lambda y:y[1])\n",
    "    n = len(y)\n",
    "\n",
    "    min_dist = d\n",
    "    for i in range(n):\n",
    "        for j in range(i+1 , min(i+8 ,n)):\n",
    "            if abs(y[i][1] - y[j][1]) >= d:\n",
    "                break\n",
    "\n",
    "            distance = dist(y[i], y[j])\n",
    "            if distance < min_dist:\n",
    "                min_dist = distance\n",
    "    \n",
    "    return min_dist\n",
    "\n",
    "\n",
    "f = open('input.txt' , \"r\")\n",
    "lines = []\n",
    "for line in f:\n",
    "    lines.append(line.split('\\n')[0])\n",
    "case = int(lines.pop(0))\n",
    "output = []\n",
    "for i in range(case):\n",
    "    case_num = int(lines.pop(0))\n",
    "    points = [[float(lines[j].split(\" \")[0]) , float(lines[j].split(\" \")[1])] for j in range(0 , case_num)]\n",
    "    output.append(find_closest_dist(points))\n",
    "    del lines[:case_num]\n",
    "print(output)"
   ]
  },
  {
   "cell_type": "code",
   "execution_count": 236,
   "metadata": {},
   "outputs": [],
   "source": [
    "points = points.sort()"
   ]
  },
  {
   "cell_type": "code",
   "execution_count": 237,
   "metadata": {},
   "outputs": [],
   "source": [
    "points"
   ]
  },
  {
   "cell_type": "code",
   "execution_count": null,
   "metadata": {},
   "outputs": [],
   "source": []
  }
 ],
 "metadata": {
  "kernelspec": {
   "display_name": "Python 3",
   "language": "python",
   "name": "python3"
  },
  "language_info": {
   "codemirror_mode": {
    "name": "ipython",
    "version": 3
   },
   "file_extension": ".py",
   "mimetype": "text/x-python",
   "name": "python",
   "nbconvert_exporter": "python",
   "pygments_lexer": "ipython3",
   "version": "3.11.0"
  },
  "orig_nbformat": 4
 },
 "nbformat": 4,
 "nbformat_minor": 2
}
